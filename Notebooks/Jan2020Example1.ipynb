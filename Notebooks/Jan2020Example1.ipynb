{
 "cells": [
  {
   "cell_type": "code",
   "execution_count": 3,
   "metadata": {},
   "outputs": [
    {
     "name": "stdout",
     "output_type": "stream",
     "text": [
      "v0.12.3\n"
     ]
    }
   ],
   "source": [
    "import qcportal as ptl\n",
    "print(ptl.__version__)"
   ]
  },
  {
   "cell_type": "markdown",
   "metadata": {},
   "source": [
    "### Issue 1\n",
    "\n",
    "This code block is extracted from \n",
    "https://github.com/openforcefield/openforcefield-forcebalance/blob/master/torsion_target/make_torsion_target_new.py\n",
    "\n",
    "The big loop at the end should run over all td_record_ids but stops at entry 202. The status of this molecule is COMPLETE and I can visualize the torsion potential. However get_final_molecules() results in an error."
   ]
  },
  {
   "cell_type": "code",
   "execution_count": 2,
   "metadata": {},
   "outputs": [
    {
     "name": "stdout",
     "output_type": "stream",
     "text": [
      "Loading TorsionDrive Scans from [ SMIRNOFF Coverage Torsion Set 1 ] spec [default]\n",
      "Found 585 data entries\n",
      "Found 585 torsiondrive records\n",
      "    1 : [H:4][O:3][C:2](=O)[C:1]1(CC1)c2ccon2              status COMPLETE\n"
     ]
    },
    {
     "ename": "IndexError",
     "evalue": "list index out of range",
     "output_type": "error",
     "traceback": [
      "\u001b[0;31m---------------------------------------------------------------------------\u001b[0m",
      "\u001b[0;31mIndexError\u001b[0m                                Traceback (most recent call last)",
      "\u001b[0;32m<ipython-input-2-694a75111bb4>\u001b[0m in \u001b[0;36m<module>\u001b[0;34m\u001b[0m\n\u001b[1;32m     22\u001b[0m     \u001b[0mentry_index\u001b[0m\u001b[0;34m,\u001b[0m \u001b[0mattributes\u001b[0m \u001b[0;34m=\u001b[0m \u001b[0mmap_record_id_entry_index\u001b[0m\u001b[0;34m[\u001b[0m\u001b[0mtd_record\u001b[0m\u001b[0;34m.\u001b[0m\u001b[0mid\u001b[0m\u001b[0;34m]\u001b[0m\u001b[0;34m\u001b[0m\u001b[0;34m\u001b[0m\u001b[0m\n\u001b[1;32m     23\u001b[0m     \u001b[0mprint\u001b[0m\u001b[0;34m(\u001b[0m\u001b[0;34mf\"{i:5d} : {entry_index:50s} status {td_record.status}\"\u001b[0m\u001b[0;34m)\u001b[0m\u001b[0;34m\u001b[0m\u001b[0;34m\u001b[0m\u001b[0m\n\u001b[0;32m---> 24\u001b[0;31m     \u001b[0mmols\u001b[0m \u001b[0;34m=\u001b[0m \u001b[0mtd_record\u001b[0m\u001b[0;34m.\u001b[0m\u001b[0mget_final_molecules\u001b[0m\u001b[0;34m(\u001b[0m\u001b[0;34m)\u001b[0m\u001b[0;34m\u001b[0m\u001b[0;34m\u001b[0m\u001b[0m\n\u001b[0m\u001b[1;32m     25\u001b[0m \u001b[0;31m#    if td_record.status == 'COMPLETE':\u001b[0m\u001b[0;34m\u001b[0m\u001b[0;34m\u001b[0m\u001b[0;34m\u001b[0m\u001b[0m\n\u001b[1;32m     26\u001b[0m \u001b[0;31m#        torsiondrive_data[entry_index] = {\u001b[0m\u001b[0;34m\u001b[0m\u001b[0;34m\u001b[0m\u001b[0;34m\u001b[0m\u001b[0m\n",
      "\u001b[0;32m~/progs/anaconda3/envs/parsley/lib/python3.7/site-packages/qcportal/models/torsiondrive.py\u001b[0m in \u001b[0;36mget_final_molecules\u001b[0;34m(self, key)\u001b[0m\n\u001b[1;32m    299\u001b[0m         \u001b[0;32mif\u001b[0m \u001b[0;34m\"final_molecules\"\u001b[0m \u001b[0;32mnot\u001b[0m \u001b[0;32min\u001b[0m \u001b[0mself\u001b[0m\u001b[0;34m.\u001b[0m\u001b[0mcache\u001b[0m\u001b[0;34m:\u001b[0m\u001b[0;34m\u001b[0m\u001b[0;34m\u001b[0m\u001b[0m\n\u001b[1;32m    300\u001b[0m \u001b[0;34m\u001b[0m\u001b[0m\n\u001b[0;32m--> 301\u001b[0;31m             \u001b[0mmap_id_key\u001b[0m \u001b[0;34m=\u001b[0m \u001b[0mself\u001b[0m\u001b[0;34m.\u001b[0m\u001b[0m_get_min_optimization_map\u001b[0m\u001b[0;34m(\u001b[0m\u001b[0;34m)\u001b[0m\u001b[0;34m\u001b[0m\u001b[0;34m\u001b[0m\u001b[0m\n\u001b[0m\u001b[1;32m    302\u001b[0m \u001b[0;34m\u001b[0m\u001b[0m\n\u001b[1;32m    303\u001b[0m             \u001b[0mopt_ids\u001b[0m \u001b[0;34m=\u001b[0m \u001b[0mlist\u001b[0m\u001b[0;34m(\u001b[0m\u001b[0mmap_id_key\u001b[0m\u001b[0;34m.\u001b[0m\u001b[0mkeys\u001b[0m\u001b[0;34m(\u001b[0m\u001b[0;34m)\u001b[0m\u001b[0;34m)\u001b[0m\u001b[0;34m\u001b[0m\u001b[0;34m\u001b[0m\u001b[0m\n",
      "\u001b[0;32m~/progs/anaconda3/envs/parsley/lib/python3.7/site-packages/qcportal/models/torsiondrive.py\u001b[0m in \u001b[0;36m_get_min_optimization_map\u001b[0;34m(self)\u001b[0m\n\u001b[1;32m    444\u001b[0m             \u001b[0mk\u001b[0m \u001b[0;34m=\u001b[0m \u001b[0mself\u001b[0m\u001b[0;34m.\u001b[0m\u001b[0m_serialize_key\u001b[0m\u001b[0;34m(\u001b[0m\u001b[0mk\u001b[0m\u001b[0;34m)\u001b[0m\u001b[0;34m\u001b[0m\u001b[0;34m\u001b[0m\u001b[0m\n\u001b[1;32m    445\u001b[0m             \u001b[0mminpos\u001b[0m \u001b[0;34m=\u001b[0m \u001b[0mself\u001b[0m\u001b[0;34m.\u001b[0m\u001b[0mminimum_positions\u001b[0m\u001b[0;34m[\u001b[0m\u001b[0mk\u001b[0m\u001b[0;34m]\u001b[0m\u001b[0;34m\u001b[0m\u001b[0;34m\u001b[0m\u001b[0m\n\u001b[0;32m--> 446\u001b[0;31m             \u001b[0mfinal_opt_id\u001b[0m \u001b[0;34m=\u001b[0m \u001b[0mtasks\u001b[0m\u001b[0;34m[\u001b[0m\u001b[0mminpos\u001b[0m\u001b[0;34m]\u001b[0m\u001b[0;34m\u001b[0m\u001b[0;34m\u001b[0m\u001b[0m\n\u001b[0m\u001b[1;32m    447\u001b[0m             \u001b[0mmap_id_key\u001b[0m\u001b[0;34m[\u001b[0m\u001b[0mfinal_opt_id\u001b[0m\u001b[0;34m]\u001b[0m \u001b[0;34m=\u001b[0m \u001b[0mk\u001b[0m\u001b[0;34m\u001b[0m\u001b[0;34m\u001b[0m\u001b[0m\n\u001b[1;32m    448\u001b[0m \u001b[0;34m\u001b[0m\u001b[0m\n",
      "\u001b[0;31mIndexError\u001b[0m: list index out of range"
     ]
    }
   ],
   "source": [
    "dataset_name = \"SMIRNOFF Coverage Torsion Set 1\"\n",
    "\n",
    "client = ptl.FractalClient()\n",
    "df     = client.list_collections()\n",
    "ds     = client.get_collection(\"TorsionDriveDataset\", dataset_name)\n",
    "\n",
    "spec_name = ds.list_specifications().index[0]\n",
    "print(f\"Loading TorsionDrive Scans from [ {dataset_name} ] spec [{spec_name}]\")\n",
    "print(f\"Found {len(ds.df)} data entries\")\n",
    "# load torsiondrive record ids from the dataset\n",
    "map_record_id_entry_index = {}\n",
    "for entry_index in ds.df.index:\n",
    "    data_entry = ds.get_entry(entry_index)\n",
    "    td_record_id = data_entry.object_map[spec_name]\n",
    "    map_record_id_entry_index[td_record_id] = entry_index, data_entry.attributes\n",
    "print(f\"Found {len(map_record_id_entry_index)} torsiondrive records\")\n",
    "# query all torsiondrive records at the same time\n",
    "td_record_ids = list(map_record_id_entry_index.keys())\n",
    "torsiondrive_data = {}\n",
    "\n",
    "for i, td_record in enumerate(client.query_procedures(id=td_record_ids[202]), 1):\n",
    "    entry_index, attributes = map_record_id_entry_index[td_record.id]\n",
    "    print(f\"{i:5d} : {entry_index:50s} status {td_record.status}\")\n",
    "    mols = td_record.get_final_molecules()\n",
    "#    if td_record.status == 'COMPLETE':\n",
    "#        torsiondrive_data[entry_index] = {\n",
    "#            'initial_molecules': client.query_molecules(td_record.initial_molecule),\n",
    "#            'final_molecules': td_record.get_final_molecules(),\n",
    "#            'final_energies': td_record.get_final_energies(),\n",
    "#            'final_gradients': {gid: np.array(res.return_result) for gid, res in td_record.get_final_results().items()},\n",
    "#            'keywords': td_record.keywords.dict(),\n",
    "#            'attributes': attributes,"
   ]
  },
  {
   "cell_type": "code",
   "execution_count": null,
   "metadata": {},
   "outputs": [],
   "source": []
  }
 ],
 "metadata": {
  "kernelspec": {
   "display_name": "Python [conda env:parsley] *",
   "language": "python",
   "name": "conda-env-parsley-py"
  },
  "language_info": {
   "codemirror_mode": {
    "name": "ipython",
    "version": 3
   },
   "file_extension": ".py",
   "mimetype": "text/x-python",
   "name": "python",
   "nbconvert_exporter": "python",
   "pygments_lexer": "ipython3",
   "version": "3.7.6"
  }
 },
 "nbformat": 4,
 "nbformat_minor": 2
}
